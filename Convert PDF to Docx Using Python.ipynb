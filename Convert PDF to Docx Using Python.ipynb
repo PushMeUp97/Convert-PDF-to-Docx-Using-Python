{
 "cells": [
  {
   "cell_type": "code",
   "execution_count": null,
   "id": "9ae85fa0-3e03-40ba-b903-7b1c00028eb3",
   "metadata": {},
   "outputs": [],
   "source": [
    "# pip install pdf2docx"
   ]
  },
  {
   "cell_type": "code",
   "execution_count": null,
   "id": "6168feac-9c0f-4236-a78a-29ef04539b51",
   "metadata": {},
   "outputs": [],
   "source": [
    "from pdf2docx import Converter\n",
    "\n",
    "pdf_file = \"C:\\\\Users\\\\Locas\\\\Desktop\\\\FileTestCodex\\\\PDF2DOCX\\\\PDF2DOCX.pdf\" #You Location to do conversion\n",
    "\n",
    "cv = Converter(pdf_file)\n",
    "cv.convert(docx_file)\n",
    "cv.close()"
   ]
  },
  {
   "cell_type": "code",
   "execution_count": null,
   "id": "3a34dee2-b62c-4530-943d-3147c8be847a",
   "metadata": {},
   "outputs": [],
   "source": []
  }
 ],
 "metadata": {
  "kernelspec": {
   "display_name": "Python 3 (ipykernel)",
   "language": "python",
   "name": "python3"
  },
  "language_info": {
   "codemirror_mode": {
    "name": "ipython",
    "version": 3
   },
   "file_extension": ".py",
   "mimetype": "text/x-python",
   "name": "python",
   "nbconvert_exporter": "python",
   "pygments_lexer": "ipython3",
   "version": "3.12.6"
  }
 },
 "nbformat": 4,
 "nbformat_minor": 5
}
